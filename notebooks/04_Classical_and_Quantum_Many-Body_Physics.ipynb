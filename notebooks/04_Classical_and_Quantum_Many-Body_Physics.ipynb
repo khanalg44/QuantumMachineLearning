{
 "cells": [
  {
   "cell_type": "markdown",
   "metadata": {},
   "source": [
    "# References\n",
    "* [SE discussion on classical/quantum ising model](https://physics.stackexchange.com/questions/273748/what-is-the-difference-between-classical-and-quantum-ising-model)\n",
    "* [Andrew Tan's paper on Quantum Ising Model](https://paramekanti.weebly.com/uploads/1/1/2/8/11287579/atan_paper.pdf)\n",
    "* For general introduction to Simulation of quantum systems, See **Section 4.7 Nielson And Chuang**\n",
    "* For detailed discussion on mathematical expressiion, See **Section 7.5.2 from Nielson and Chuang**\n",
    "\n",
    "* [Qiskit Tutorial on Travelling Salesman Problem](https://qiskit.org/documentation/tutorials/optimization/6_examples_max_cut_and_tsp.html)"
   ]
  },
  {
   "cell_type": "markdown",
   "metadata": {},
   "source": [
    "The concepts to be introduced in this notebook, such as the Ising model, simulated annealing, and the transverse Ising model, play an important role in today's quantum algorithms and quantum computing paradigms, including quantum annealing, the quantum approximate optimization algorithm, and quantum-enhanced sampling. Here we give some insight on how these physical building blocks work.\n",
    "\n",
    "# The Ising model\n",
    "\n",
    "We would like to make a connection between the computational hardness of a problem and how difficult it is to solve a corresponding physical system. The Ising model is the most basic model to do this. It is an extensively studied model and one of the most basic examples to teach statistical mechanics and phase transitions, but we only require an elementary understanding of it.\n",
    "\n",
    "Imagine that you have two magnets fixed on the same axis.\n",
    "\n",
    "<img src=\"../images/two_magnets.svg\" alt=\"Two magnets\" style=\"width: 100px;\"/>\n",
    "\n",
    "They will naturally anti-align: one will have north pole facing up, the second the south pole facing up. We can think of them as two binary variables, $\\sigma_1$ and $\\sigma_2$. Say, if the north pole is facing up, we assign the value +1 to the variable, and -1 otherwise. To abstract away from magnets, in general, we call these variables spins. So in the optimal configuration, their product is -1:\n",
    "\n",
    "$$ \\sigma_1\\sigma_2=-1 $$\n",
    "\n",
    "We can think of this as the energy of the system: the lowest energy is called the ground state energy. Note that there are two physical configurations corresponding to this optimum: $\\sigma_1=+1, \\sigma_2=-1$, and $\\sigma_1=-1, \\sigma_2=+1$.\n",
    "\n",
    "If we keep adding more magnets to this system, we can sum up their pairwise interaction to get the total energy. The total energy of the system is called the Hamiltonian, and we will denote it by $H$. So if we have $N$ magnets arranged along a straight line, we have\n",
    "\n",
    "$$ H=\\sum_{i=1}^{N-1} \\sigma_i \\sigma_{i+1}$$.\n",
    "\n",
    "We did a simplification here: we assumed that remote magnets do not interact with each other (e.g. there is no such term as $\\sigma_i\\sigma_{i+2}$. In general, the interactions modeled depend on the layout of the spins and assumptions about the physical model: there will be some graph describing the connectivity of interactions. To reflect this, we write\n",
    "\n",
    "$$ H=\\sum_{<i,j>} \\sigma_i \\sigma_{j}$$,\n",
    "\n",
    "where $<i,j>$ typically means nearest neighbours, but it is up to us to declare what nearest neighbours mean.\n",
    "\n",
    "Now imagine that the distance is not the same between each pair. In other words, some pairs interact more than others. We can express this by adding a parameter that describes the interaction strength:\n",
    "\n",
    "$$ H=-\\sum_{<i,j>} J_{ij} \\sigma_i \\sigma_{j}$$,\n",
    "\n",
    "where $J_{ij}$ is a real number. We added a negative sign to the Hamiltonian: this is by convention. If the spins are antiferromagnetic, that is, they behave as we would expect from magnets, then all $J_{ij}$ values would be negative. That cancels out the negative sign of the sum, so we still expect that each product $\\sigma_i\\sigma_j$ would give you -1 in the optimum configuration.\n",
    "\n",
    "The model is fairly complicated by this point. Imagine that you have many spins and not all of them behave like magnets (that is, $J_{ij}$ can take both negative and positive values for different pairs). Nature still wants to find the lowest energy configuration, though. Let's take a look at how we would do it in code. Let's calculate the energy of spins on a line, given some couplings and a spin configuration:"
   ]
  },
  {
   "cell_type": "code",
   "execution_count": 1,
   "metadata": {},
   "outputs": [],
   "source": [
    "import numpy as np\n",
    "import matplotlib.pylab as plt\n",
    "import seaborn as sns"
   ]
  },
  {
   "cell_type": "code",
   "execution_count": 2,
   "metadata": {},
   "outputs": [],
   "source": [
    "\n",
    "class Ising2D():\n",
    "    def __init__(self, N=10, seed=8848):\n",
    "        self.N = N\n",
    "        self.seed = seed\n",
    "        \n",
    "        np.random.seed(self.seed)\n",
    "        self.Lattice = np.zeros((self.N,self.N), dtype=int) # lattice\n",
    "        for i in range(self.N):\n",
    "            for j in range(self.N):\n",
    "                # randomly assign +1 and -1 in each lattice point.\n",
    "                self.Lattice[i,j] = 2*np.random.randint(2) - 1\n",
    "\n",
    "    def Plot_lattice(self):\n",
    "        fig,ax=plt.subplots(1,1, figsize=(8,8))\n",
    "        sns.heatmap(self.Lattice, linecolor='white', cbar=True, ax=ax,\n",
    "                    square=True, cmap='viridis', xticklabels=[], yticklabels=[]);\n",
    "        #plt.imshow(self.Lattice)\n",
    "        plt.show()\n",
    "        \n",
    "    def Energy(self, J=1, h=0):\n",
    "        ene = 0.\n",
    "        for i in range(self.N):\n",
    "            for j in range(self.N):\n",
    "                #wiess field with PBC\n",
    "                wf = self.Lattice[ (i+1)%self.N, j ] + self.Lattice[ (i-1)%self.N, j ] +\\\n",
    "                self.Lattice[ i, (j+1)%self.N ] + self.Lattice[ i, (j-1)%self.N ]                \n",
    "\n",
    "                ene += -1 * J * self.Lattice[i,j] * wf\n",
    "        return ene\n",
    "    \n",
    "    def Magnetization(self):\n",
    "        return np.sum(self.Lattice)"
   ]
  },
  {
   "cell_type": "code",
   "execution_count": 3,
   "metadata": {},
   "outputs": [
    {
     "data": {
      "image/png": "[encoded data removed]",
      "text/plain": [
       "<Figure size 576x576 with 2 Axes>"
      ]
     },
     "metadata": {
      "needs_background": "light"
     },
     "output_type": "display_data"
    },
    {
     "name": "stdout",
     "output_type": "stream",
     "text": [
      "Energy of given configuration: 40.0 and Magnetization: 12\n"
     ]
    }
   ],
   "source": [
    "model = Ising2D(N=10, seed=0) # seed 0, N=12\n",
    "model.Plot_lattice()\n",
    "Ene = model.Energy()\n",
    "M = model.Magnetization()\n",
    "print ( f\"Energy of given configuration: {Ene} and Magnetization: {M}\")"
   ]
  },
  {
   "cell_type": "code",
   "execution_count": 4,
   "metadata": {
    "ExecuteTime": {
     "end_time": "2018-11-19T20:00:27.336290Z",
     "start_time": "2018-11-19T20:00:27.331856Z"
    }
   },
   "outputs": [],
   "source": [
    "def calculate_energy(J, σ, h=[0]):\n",
    "    energy = -sum(J_ij*σ[i]*σ[i+1] for i, J_ij in enumerate(J))\n",
    "    energy += -sum(h_i*σ_i for h_i, σ_i in zip(h, σ))\n",
    "    return energy\n"
   ]
  },
  {
   "cell_type": "markdown",
   "metadata": {},
   "source": [
    "Let's give it a fixed set of couplings and a spin configuration on three sites:"
   ]
  },
  {
   "cell_type": "code",
   "execution_count": 5,
   "metadata": {
    "ExecuteTime": {
     "end_time": "2018-11-19T20:00:27.358242Z",
     "start_time": "2018-11-19T20:00:27.340861Z"
    }
   },
   "outputs": [],
   "source": [
    "J = [1.0, -1.0]\n",
    "σ = [+1, -1, +1]"
   ]
  },
  {
   "cell_type": "markdown",
   "metadata": {},
   "source": [
    "The energy of this is"
   ]
  },
  {
   "cell_type": "code",
   "execution_count": 6,
   "metadata": {
    "ExecuteTime": {
     "end_time": "2018-11-19T20:00:27.387715Z",
     "start_time": "2018-11-19T20:00:27.360889Z"
    }
   },
   "outputs": [
    {
     "data": {
      "text/plain": [
       "0.0"
      ]
     },
     "execution_count": 6,
     "metadata": {},
     "output_type": "execute_result"
    }
   ],
   "source": [
    "calculate_energy(J, σ)"
   ]
  },
  {
   "cell_type": "markdown",
   "metadata": {},
   "source": [
    "Is this the ground state? How do we know? We are interested in the minimum, but we cannot use some gradient-based method to find it, since the variables are binary, plus the optimization landscape is nonconvex. So the easiest choice is an exhaustive search of all possibilities:"
   ]
  },
  {
   "cell_type": "code",
   "execution_count": 7,
   "metadata": {
    "ExecuteTime": {
     "end_time": "2018-11-19T20:00:27.407303Z",
     "start_time": "2018-11-19T20:00:27.389825Z"
    }
   },
   "outputs": [
    {
     "name": "stdout",
     "output_type": "stream",
     "text": [
      "Spin configuration:\t(1, 1, 1) \tEnergy: \t 0.0\n",
      "Spin configuration:\t(1, 1, -1) \tEnergy: \t -2.0\n",
      "Spin configuration:\t(1, -1, 1) \tEnergy: \t 0.0\n",
      "Spin configuration:\t(1, -1, -1) \tEnergy: \t 2.0\n",
      "Spin configuration:\t(-1, 1, 1) \tEnergy: \t 2.0\n",
      "Spin configuration:\t(-1, 1, -1) \tEnergy: \t 0.0\n",
      "Spin configuration:\t(-1, -1, 1) \tEnergy: \t -2.0\n",
      "Spin configuration:\t(-1, -1, -1) \tEnergy: \t 0.0\n"
     ]
    }
   ],
   "source": [
    "import itertools\n",
    "for σ in itertools.product(*[{+1, -1}, {+1, -1}, {+1, -1}]):\n",
    "#for σ in itertools.product(*[{+1,-1} for _ in range(3)]):\n",
    "    print(f\"Spin configuration:\\t{σ} \\tEnergy: \\t {calculate_energy(J, σ)}\")"
   ]
  },
  {
   "cell_type": "markdown",
   "metadata": {},
   "source": [
    "We see that -2 is the optimum, with two optimal configurations, but we had to enumerate all possibilities to figure this out. For this particular case, there are more clever ways to find the best solution, but in the general case, this is not the case.\n"
   ]
  },
  {
   "cell_type": "markdown",
   "metadata": {},
   "source": [
    "### Long Range Magnetic Order"
   ]
  },
  {
   "cell_type": "code",
   "execution_count": 8,
   "metadata": {},
   "outputs": [
    {
     "name": "stdout",
     "output_type": "stream",
     "text": [
      "1.6\n",
      "-2.4\n",
      "-3.7\n"
     ]
    }
   ],
   "source": [
    "J = [1.0, 1.]\n",
    "σ = [+1, -1, +1]\n",
    "h = [0.5, 0.5, 0.4]\n",
    "print ( calculate_energy(J, σ, h))\n",
    "\n",
    "J = [-1.0, -1.]\n",
    "σ = [+1, -1, +1]\n",
    "h = [0.5, 0.5, 0.4]\n",
    "print ( calculate_energy(J, σ, h))\n",
    "\n",
    "J = [-1.0]\n",
    "σ = [+1, -1, -1, -1]\n",
    "h = [4, 0.2, 0.4, 0.7]\n",
    "print ( calculate_energy(J, σ, h))"
   ]
  },
  {
   "cell_type": "markdown",
   "metadata": {},
   "source": [
    "**The sign of the coupling defines the nature of the interaction, ferromagnetic or antiferromagnetic**, corresponding to positive and negative $J$ values, respectively. Setting the couplings to zero, we have a non-interacting model. Create an arbitrary antiferromagnetic model on three sites with no external field. Define the model through variables `J` and `h`. Iterate over all solutions and write the optimal one in a variable called `σ`. If the optimum is degenerate, that is, you have more than one optimal configuration, keep one."
   ]
  },
  {
   "cell_type": "code",
   "execution_count": 9,
   "metadata": {},
   "outputs": [],
   "source": [
    "import itertools\n",
    "J = [-1, -1]\n",
    "h = [0, 0, 0]\n",
    "minimum_energy = 0\n",
    "for σ_c in itertools.product(*[{+1,-1} for _ in range(3)]):\n",
    "    energy = calculate_energy(J, σ_c, h)\n",
    "    if energy < minimum_energy:\n",
    "        minimum_energy = energy\n",
    "        σ = σ_c"
   ]
  },
  {
   "cell_type": "code",
   "execution_count": 10,
   "metadata": {},
   "outputs": [
    {
     "data": {
      "text/plain": [
       "((1, -1, 1), -2)"
      ]
     },
     "execution_count": 10,
     "metadata": {},
     "output_type": "execute_result"
    }
   ],
   "source": [
    "σ, minimum_energy"
   ]
  },
  {
   "cell_type": "markdown",
   "metadata": {},
   "source": [
    "To get to the general case, we need one more component, an external field. Imagine that you add a large magnet below each and every one of our magnets, creating an external magnetic field for each site. If this field is strong enough, it can override the pairwise interaction and flip the magnets. We model this by adding a linear term to the Hamiltonian:\n",
    "\n",
    "$$ H=-\\sum_{<i,j>} J_{ij} \\sigma_i \\sigma_{j} - \\sum_i h_i \\sigma_i$$,\n",
    "\n",
    "where $h_i$ is the strength of the external field. This is the full description of the **classical Ising model**. The Hamiltonian describes the energy, but in computer science language, it means it expresses the objective function we want to minimize. The **corresponding computer science problem is called quadratic unconstrained binary optimization (QUBO)**, where the only difference is that the variables take values in $\\{0, 1\\}$, but that is only a constant shift. **QUBOs are NP-hard in general**, that is, we are not aware of an efficient polynomial time algorithm to solve any given QUBO. So the generic strategy is the exhaustive search we did above, which takes exponentially many steps in the number of sites (variables).\n"
   ]
  },
  {
   "cell_type": "markdown",
   "metadata": {},
   "source": [
    "As we mentioned, nature seeks the minimum energy configuration. So how does computational hardness map to physical difficulty? Imagine that the energy difference between the ground state and the next lowest energy state (also called the first excited state) is small, but the energetic cost of going from one to the other is high. A cartoon picture of this is the following:\n",
    "\n",
    "<img src=\"../images/energy_landscape.svg\" alt=\"Energy landscape\" style=\"width: 200px;\"/>\n",
    "\n",
    "If we start from a random configuration, we might get stuck in the local optimum denoted by the green spot. This is what happens in metals if they are cooled down too quickly: the crystal lattice will have imperfections and the metal will not have the desired properties. A process called **annealing** helps in metallurgy: by increasing the temperature, the chance of overcoming the potential barrier increases and the crystal structure can reconfigure itself. If the barrier is high and the energy difference is small between the ground state and the first excited state, the probability of this happening drops. This is what it means that the problem is difficult to do in a physical system.\n",
    "\n",
    "Annealing inspired a heuristic algorithm called **[simulated annealing](https://en.wikipedia.org/wiki/Simulated_annealing)**. This defines a temperature to be able to hop out of local minima. The temperature is lowered over time to find the actual minimum. Simulated annealing has many implementations. Here we'll use the one implemented in dimod to solve our problem above:"
   ]
  },
  {
   "cell_type": "code",
   "execution_count": 11,
   "metadata": {
    "ExecuteTime": {
     "end_time": "2018-11-19T20:00:27.549002Z",
     "start_time": "2018-11-19T20:00:27.454734Z"
    }
   },
   "outputs": [],
   "source": [
    "import dimod"
   ]
  },
  {
   "cell_type": "markdown",
   "metadata": {},
   "source": [
    "The simulated annealing solver requires us to define the couplings as a dictionary between spins, and we must also pass the external field values as a dictionary. The latter is all zeros for us."
   ]
  },
  {
   "cell_type": "code",
   "execution_count": 12,
   "metadata": {
    "ExecuteTime": {
     "end_time": "2018-11-19T20:00:27.555690Z",
     "start_time": "2018-11-19T20:00:27.551785Z"
    }
   },
   "outputs": [],
   "source": [
    "J = {(0, 1): 1.0, (1, 2): -1.0}\n",
    "h = {0:0, 1:0, 2:0}"
   ]
  },
  {
   "cell_type": "markdown",
   "metadata": {},
   "source": [
    "We instantiate an Ising model:"
   ]
  },
  {
   "cell_type": "code",
   "execution_count": 13,
   "metadata": {
    "ExecuteTime": {
     "end_time": "2018-11-19T20:00:27.575330Z",
     "start_time": "2018-11-19T20:00:27.557800Z"
    }
   },
   "outputs": [],
   "source": [
    "model = dimod.BinaryQuadraticModel(h, J, 0.0, dimod.SPIN) # syntax (linear, quadratic, offset, vartype)"
   ]
  },
  {
   "cell_type": "markdown",
   "metadata": {},
   "source": [
    "Finally, we create a simulated annealing sampler that pulls out potentially optimal solutions, and we read out 10 possible solutions:"
   ]
  },
  {
   "cell_type": "code",
   "execution_count": 14,
   "metadata": {
    "ExecuteTime": {
     "end_time": "2018-11-19T20:00:27.701309Z",
     "start_time": "2018-11-19T20:00:27.580079Z"
    }
   },
   "outputs": [],
   "source": [
    "sampler = dimod.SimulatedAnnealingSampler()\n",
    "response = sampler.sample(model, num_reads=10)"
   ]
  },
  {
   "cell_type": "markdown",
   "metadata": {},
   "source": [
    "You can see that this configuration is actually easy, since you get the optimal solution -2 most of the time:"
   ]
  },
  {
   "cell_type": "code",
   "execution_count": 15,
   "metadata": {},
   "outputs": [
    {
     "name": "stdout",
     "output_type": "stream",
     "text": [
      "All energies: [-2.0, -2.0, -2.0, -2.0, -2.0, -2.0, -2.0, -2.0, -2.0, -2.0] with total count: 10\n"
     ]
    }
   ],
   "source": [
    "all_ene = [solution.energy for solution in response.data()]\n",
    "print (f\"All energies: {all_ene} with total count: {all_ene.count(-2.)}\")"
   ]
  },
  {
   "cell_type": "markdown",
   "metadata": {},
   "source": [
    "Simulated annealing is a classical heuristic algorithm. [Quantum annealing](https://en.wikipedia.org/wiki/Quantum_annealing) uses physical effects to find the global optimum of an Ising model: it uses thermal effects just like annealing in metallurgy, but it also uses quantum effects like tunneling to overcome potential barriers.\n",
    "\n",
    "*The transverse field is slowly decreased (adiabatic evolution) and finally switched off, and the system is expected to have reached the ground state of the classical Ising model that corresponds to the solution to the original optimization problem.*\n",
    "\n",
    "The Ising model also plays an important role in quantum-enhanced sampling, but that idea requires a better understanding of the role of temperature, which we will revisit in a subsequent notebook."
   ]
  },
  {
   "cell_type": "markdown",
   "metadata": {},
   "source": [
    "# The transverse-field Ising model"
   ]
  },
  {
   "cell_type": "markdown",
   "metadata": {},
   "source": [
    "We discussed the Hamiltonian of the classical Ising model. We can write the same Hamiltonian in a quantum mechanical form. In quantum mechanics, the Hamiltonian is not a function of variables, but of operators. We will simulate what it means in a quantum circuit."
   ]
  },
  {
   "cell_type": "code",
   "execution_count": 16,
   "metadata": {
    "ExecuteTime": {
     "end_time": "2018-11-19T20:00:28.576569Z",
     "start_time": "2018-11-19T20:00:27.713089Z"
    }
   },
   "outputs": [
    {
     "data": {
      "image/png": "[encoded data removed]",
      "text/plain": [
       "<Figure size 124.012x144.48 with 1 Axes>"
      ]
     },
     "metadata": {},
     "output_type": "display_data"
    }
   ],
   "source": [
    "from qiskit import QuantumCircuit, ClassicalRegister, QuantumRegister\n",
    "from qiskit import execute\n",
    "from qiskit import Aer\n",
    "from qiskit.visualization import plot_state_qsphere\n",
    "from qiskit_textbook.tools import array_to_latex\n",
    "\n",
    "\n",
    "np.set_printoptions(precision=3, suppress=True)\n",
    "backend = Aer.get_backend('statevector_simulator')\n",
    "q = QuantumRegister(1)\n",
    "c = ClassicalRegister(1)\n",
    "circuit = QuantumCircuit(q, c)\n",
    "display ( circuit.draw('mpl') )"
   ]
  },
  {
   "cell_type": "markdown",
   "metadata": {},
   "source": [
    "The operator that replicates the effect of what we have seen in the classical case is the Pauli-Z matrix, defined as $\\begin{bmatrix}1 & 0\\\\ 0& -1\\end{bmatrix}$. Let's see what it does on the elements of the computational basis:"
   ]
  },
  {
   "cell_type": "code",
   "execution_count": 17,
   "metadata": {},
   "outputs": [],
   "source": [
    "def get_statevector(qc):\n",
    "    return execute(qc, backend = Aer.get_backend('statevector_simulator') ).result().get_statevector()"
   ]
  },
  {
   "cell_type": "code",
   "execution_count": 18,
   "metadata": {
    "ExecuteTime": {
     "end_time": "2018-11-19T20:00:28.652206Z",
     "start_time": "2018-11-19T20:00:28.578778Z"
    }
   },
   "outputs": [
    {
     "data": {
      "text/latex": [
       "$\\displaystyle \n",
       "\\text{ State : }\n",
       "\\begin{bmatrix}\n",
       "1 \\\\\n",
       "0\n",
       "\\end{bmatrix}\n",
       "$"
      ],
      "text/plain": [
       "<IPython.core.display.Math object>"
      ]
     },
     "metadata": {},
     "output_type": "display_data"
    },
    {
     "data": {
      "image/png": "[encoded data removed]",
      "text/plain": [
       "<Figure size 504x504 with 2 Axes>"
      ]
     },
     "execution_count": 18,
     "metadata": {},
     "output_type": "execute_result"
    }
   ],
   "source": [
    "circuit.z(q[0])\n",
    "state = get_statevector(circuit)\n",
    "array_to_latex ( state, pretext=\"\\\\text{ State : }\\n\" )\n",
    "plot_state_qsphere(state.data)"
   ]
  },
  {
   "cell_type": "markdown",
   "metadata": {
    "ExecuteTime": {
     "end_time": "2018-11-09T23:08:37.178401Z",
     "start_time": "2018-11-09T23:08:37.159286Z"
    }
   },
   "source": [
    "This is nothing but the $|0\\rangle$ state. In other words, it does not do anything to $|0\\rangle$, which can also be thought of as multiplying it by +1. Let's try it on $|1\\rangle$:"
   ]
  },
  {
   "cell_type": "code",
   "execution_count": 19,
   "metadata": {
    "ExecuteTime": {
     "end_time": "2018-11-19T20:00:28.716083Z",
     "start_time": "2018-11-19T20:00:28.658356Z"
    }
   },
   "outputs": [
    {
     "data": {
      "text/latex": [
       "$\\displaystyle \n",
       "\\text{ State : }\n",
       "\\begin{bmatrix}\n",
       "0 \\\\\n",
       "1\n",
       "\\end{bmatrix}\n",
       "$"
      ],
      "text/plain": [
       "<IPython.core.display.Math object>"
      ]
     },
     "metadata": {},
     "output_type": "display_data"
    },
    {
     "data": {
      "image/png": "[encoded data removed]",
      "text/plain": [
       "<Figure size 504x504 with 2 Axes>"
      ]
     },
     "execution_count": 19,
     "metadata": {},
     "output_type": "execute_result"
    }
   ],
   "source": [
    "circuit = QuantumCircuit(q, c)\n",
    "circuit.z(q[0])\n",
    "circuit.x(q[0])\n",
    "\n",
    "state = get_statevector(circuit)\n",
    "array_to_latex ( state, pretext=\"\\\\text{ State : }\\n\" )\n",
    "plot_state_qsphere(state.data)"
   ]
  },
  {
   "cell_type": "markdown",
   "metadata": {},
   "source": [
    "We get $-|1\\rangle$, which means it adds a minus sign to it. This way we have the +1, -1 values, just the same way as in the classical formalism. If we write $\\sigma^Z_i$ for the operator $Z$ at a site $i$, the quantum mechanical Hamiltonian of the classical Ising model reads as\n",
    "\n",
    "$$ H=-\\sum_{<i,j>} J_{ij} \\sigma^Z_i \\sigma^Z_{j} - \\sum_i h_i \\sigma^Z_i$$.\n",
    "\n",
    "Technically speaking, we should put a hat on $H$ and on all of the $\\sigma^Z_i$ to indicate that they are operators, and not numbers or variables, but we omit this for notational simplicity.\n",
    "\n",
    "The expectation value $<H>$ of the Hamiltonian is the energy of the system, and the corresponding quantum state $|\\psi\\rangle$ is the configuration of that energy level. We can create the quantum mechanical version of calculating the energy, matching the function we defined above for the classical mechanical variant:"
   ]
  },
  {
   "cell_type": "code",
   "execution_count": 20,
   "metadata": {
    "ExecuteTime": {
     "end_time": "2018-11-19T20:00:28.728032Z",
     "start_time": "2018-11-19T20:00:28.722743Z"
    }
   },
   "outputs": [],
   "source": [
    "def calculate_energy_expectation(state, hamiltonian):\n",
    "    return np.squeeze(np.dot(np.matrix.getH(state),  np.dot(hamiltonian, state) ))\n",
    "    #return float((state.T.conj() @ hamiltonian @ state).real)\n",
    "    #return float((state.T.conj() @ hamiltonian @ state).real)"
   ]
  },
  {
   "cell_type": "markdown",
   "metadata": {},
   "source": [
    "It is a bit tricky to define the Hamiltonian with the $\\sigma^Z_i$ operators, since saying that it acts on site $i$ means that it acts trivially on all other sites. So, for instance, for two sites, if we act on site one, the actual operator is $\\sigma^Z\\otimes I$, and acting on site two, we have $I \\otimes \\sigma^Z$. The above function to calculate the energy takes numpy arrays, so we manually define $\\sigma^Z$ and calculate the energy of the Hamiltonian $H=-\\sigma^Z_1\\sigma^Z_2  - 0.5 (\\sigma^Z_1 + \\sigma^Z_2)$ on the state $|00\\rangle$."
   ]
  },
  {
   "cell_type": "code",
   "execution_count": 21,
   "metadata": {},
   "outputs": [
    {
     "data": {
      "text/latex": [
       "$\\displaystyle \n",
       "\\text{ Pauli-X operator : }\n",
       "\\begin{bmatrix}\n",
       "0 & 1  \\\\\n",
       "1 & 0  \\\\\n",
       "\\end{bmatrix}\n",
       "$$\n",
       "$"
      ],
      "text/plain": [
       "<IPython.core.display.Math object>"
      ]
     },
     "metadata": {},
     "output_type": "display_data"
    },
    {
     "data": {
      "text/latex": [
       "$\\displaystyle \n",
       "\\text{ XZ operator : }\n",
       "\\begin{bmatrix}\n",
       "0 & 0 & 1 & 0  \\\\\n",
       "0 & 0 & 0 & -1  \\\\\n",
       "1 & 0 & 0 & 0  \\\\\n",
       "0 & -1 & 0 & 0  \\\\\n",
       "\\end{bmatrix}\n",
       "$$\n",
       "$"
      ],
      "text/plain": [
       "<IPython.core.display.Math object>"
      ]
     },
     "metadata": {},
     "output_type": "display_data"
    }
   ],
   "source": [
    "# built-in operators\n",
    "from qiskit.quantum_info import Operator, Pauli\n",
    "\n",
    "array_to_latex ( Operator(Pauli(label='X')).data, pretext=\"\\\\text{ Pauli-X operator : }\\n\" )\n",
    "array_to_latex ( Operator(Pauli(label='XZ')).data, pretext=\"\\\\text{ XZ operator : }\\n\" )"
   ]
  },
  {
   "cell_type": "code",
   "execution_count": 22,
   "metadata": {
    "ExecuteTime": {
     "end_time": "2018-11-19T20:00:28.755692Z",
     "start_time": "2018-11-19T20:00:28.731315Z"
    }
   },
   "outputs": [
    {
     "data": {
      "text/latex": [
       "$\\displaystyle \n",
       "\\text{ IZ = }\n",
       "\\begin{bmatrix}\n",
       "1 & 0 & 0 & 0  \\\\\n",
       "0 & -1 & 0 & 0  \\\\\n",
       "0 & 0 & 1 & 0  \\\\\n",
       "0 & 0 & 0 & -1  \\\\\n",
       "\\end{bmatrix}\n",
       "$$\n",
       "$"
      ],
      "text/plain": [
       "<IPython.core.display.Math object>"
      ]
     },
     "metadata": {},
     "output_type": "display_data"
    },
    {
     "data": {
      "text/latex": [
       "$\\displaystyle \n",
       "\\text{ ZI = }\n",
       "\\begin{bmatrix}\n",
       "1 & 0 & 0 & 0  \\\\\n",
       "0 & 1 & 0 & 0  \\\\\n",
       "0 & 0 & -1 & 0  \\\\\n",
       "0 & 0 & 0 & -1  \\\\\n",
       "\\end{bmatrix}\n",
       "$$\n",
       "$"
      ],
      "text/plain": [
       "<IPython.core.display.Math object>"
      ]
     },
     "metadata": {},
     "output_type": "display_data"
    },
    {
     "data": {
      "text/latex": [
       "$\\displaystyle \n",
       "\\text{ ZZ = }\n",
       "\\begin{bmatrix}\n",
       "1 & 0 & 0 & 0  \\\\\n",
       "0 & -1 & 0 & 0  \\\\\n",
       "0 & 0 & -1 & 0  \\\\\n",
       "0 & 0 & 0 & 1  \\\\\n",
       "\\end{bmatrix}\n",
       "$$\n",
       "$"
      ],
      "text/plain": [
       "<IPython.core.display.Math object>"
      ]
     },
     "metadata": {},
     "output_type": "display_data"
    },
    {
     "data": {
      "text/latex": [
       "$\\displaystyle \n",
       "\\text{ H = }\n",
       "\\begin{bmatrix}\n",
       "-2 & 0 & 0 & 0  \\\\\n",
       "0 & 1 & 0 & 0  \\\\\n",
       "0 & 0 & 1 & 0  \\\\\n",
       "0 & 0 & 0 & 0  \\\\\n",
       "\\end{bmatrix}\n",
       "$$\n",
       "$"
      ],
      "text/plain": [
       "<IPython.core.display.Math object>"
      ]
     },
     "metadata": {},
     "output_type": "display_data"
    },
    {
     "data": {
      "text/latex": [
       "$\\displaystyle \n",
       "\\text{ ψ = }\n",
       "\\begin{bmatrix}\n",
       "1  \\\\\n",
       "0  \\\\\n",
       "0  \\\\\n",
       "0  \\\\\n",
       "\\end{bmatrix}\n",
       "$$\n",
       "$"
      ],
      "text/plain": [
       "<IPython.core.display.Math object>"
      ]
     },
     "metadata": {},
     "output_type": "display_data"
    },
    {
     "name": "stdout",
     "output_type": "stream",
     "text": [
      "Energy expectetation value: -2.0\n"
     ]
    }
   ],
   "source": [
    "PauliZ = np.array([[1, 0], [0, -1]])\n",
    "I2 = np.eye(2)\n",
    "IZ = np.kron(I2, PauliZ);\n",
    "ZI = np.kron(PauliZ, I2);\n",
    "ZZ = np.kron(PauliZ, PauliZ);\n",
    "H = -ZZ + -0.5*(ZI+IZ);\n",
    "ψ = np.kron([[1], [0]], [[1], [0]]) ;\n",
    "ψ_H_ψ = calculate_energy_expectation(ψ, H);\n",
    "\n",
    "array_to_latex ( IZ, pretext=\"\\\\text{ IZ = }\\n\" )\n",
    "array_to_latex ( ZI, pretext=\"\\\\text{ ZI = }\\n\" )\n",
    "array_to_latex ( ZZ, pretext=\"\\\\text{ ZZ = }\\n\" )\n",
    "array_to_latex ( H, pretext=\"\\\\text{ H = }\\n\" )\n",
    "array_to_latex ( ψ, pretext=\"\\\\text{ ψ = }\\n\" )\n",
    " \n",
    "print (f\"Energy expectetation value: {ψ_H_ψ}\")\n"
   ]
  },
  {
   "cell_type": "markdown",
   "metadata": {},
   "source": [
    "This Hamiltonian commutes, which means all of its operators are commutative, which is a clear sign of nothing much quantum going on.\n",
    "\n",
    "To make this a quantum Ising model, we need to add a term that does not commute with the rest of the terms. A transverse field is such, which is an on-site interaction just like the external field. Its effect is described by the Pauli-X operator (the NOT gate), which we will denote by $\\sigma^X_i$ for a site $i$. It is very easy to see that the Pauli-Z and the Pauli-X do not commute:"
   ]
  },
  {
   "cell_type": "code",
   "execution_count": 23,
   "metadata": {
    "ExecuteTime": {
     "end_time": "2018-11-19T20:00:28.860349Z",
     "start_time": "2018-11-19T20:00:28.758829Z"
    }
   },
   "outputs": [
    {
     "data": {
      "text/latex": [
       "$\\displaystyle \n",
       "\\text{ Pauli-X, then Pauli-Z, Circuit as operator : }\n",
       "\\begin{bmatrix}\n",
       "0 & 1  \\\\\n",
       "-1 & 0  \\\\\n",
       "\\end{bmatrix}\n",
       "$$\n",
       "$"
      ],
      "text/plain": [
       "<IPython.core.display.Math object>"
      ]
     },
     "metadata": {},
     "output_type": "display_data"
    },
    {
     "data": {
      "text/latex": [
       "$\\displaystyle \n",
       "\\text{ Statevector : }\n",
       "\\begin{bmatrix}\n",
       "0 \\\\\n",
       "-1\n",
       "\\end{bmatrix}\n",
       "$"
      ],
      "text/plain": [
       "<IPython.core.display.Math object>"
      ]
     },
     "metadata": {},
     "output_type": "display_data"
    },
    {
     "data": {
      "text/latex": [
       "$\\displaystyle \n",
       "\\text{ Pauli-Z, then Pauli-X, Circuit as operator : }\n",
       "\\begin{bmatrix}\n",
       "0 & -1  \\\\\n",
       "1 & 0  \\\\\n",
       "\\end{bmatrix}\n",
       "$$\n",
       "$"
      ],
      "text/plain": [
       "<IPython.core.display.Math object>"
      ]
     },
     "metadata": {},
     "output_type": "display_data"
    },
    {
     "data": {
      "text/latex": [
       "$\\displaystyle \n",
       "\\text{ Statevector: }\n",
       "\\begin{bmatrix}\n",
       "0 \\\\\n",
       "1\n",
       "\\end{bmatrix}\n",
       "$"
      ],
      "text/plain": [
       "<IPython.core.display.Math object>"
      ]
     },
     "metadata": {},
     "output_type": "display_data"
    }
   ],
   "source": [
    "circuit = QuantumCircuit(q, c)\n",
    "circuit.x(q[0]); \n",
    "circuit.z(q[0])\n",
    "state = get_statevector(circuit)\n",
    "\n",
    "op = Operator(circuit)\n",
    "array_to_latex ( op.data, pretext=\"\\\\text{ Pauli-X, then Pauli-Z, Circuit as operator : }\\n\" )\n",
    "array_to_latex ( state, pretext=\"\\\\text{ Statevector : }\\n\" )\n",
    "\n",
    "circuit = QuantumCircuit(q, c)\n",
    "circuit.z(q[0]);\n",
    "circuit.x(q[0])\n",
    "state = get_statevector(circuit)\n",
    "\n",
    "op = Operator(circuit)\n",
    "array_to_latex ( op.data, pretext=\"\\\\text{ Pauli-Z, then Pauli-X, Circuit as operator : }\\n\" )\n",
    "array_to_latex ( state, pretext=\"\\\\text{ Statevector: }\\n\" )\n"
   ]
  },
  {
   "cell_type": "markdown",
   "metadata": {},
   "source": [
    "There is a clear sign difference in the state vectors."
   ]
  },
  {
   "cell_type": "markdown",
   "metadata": {},
   "source": [
    "There are many other ways of making the Ising Hamiltonian noncommuting, but adding the onsite Pauli-X operations leads to the *transverse field Ising model*. Its Hamiltonian reads as\n",
    "\n",
    "$$ H=-\\sum_{<i,j>} J_{ij} \\sigma^Z_i \\sigma^Z_{j} - \\sum_i h_i \\sigma^Z_i - \\sum_i g_i \\sigma^X_i$$.\n",
    "\n",
    "The transverse field Ising model is critically important to explain how quantum annealing works because by adding the $\\sigma^X$ part to the Hamiltonian it becomes possible to exploit quantum effects like tunnelling. It is also important for understanding the quantum approximation optimization algorithms, since it was inspired by quantum annealing."
   ]
  },
  {
   "cell_type": "markdown",
   "metadata": {},
   "source": [
    "\n",
    "We add a Pauli-X term to both sites, so the total Hamiltonian will be \n",
    "$$H=-\\sigma^Z_1\\sigma^Z_2-\\sigma^X_1-\\sigma^X_2$$, in the object `H`.\n"
   ]
  },
  {
   "cell_type": "code",
   "execution_count": 24,
   "metadata": {},
   "outputs": [
    {
     "data": {
      "text/plain": [
       "array([[-2., -1., -1.,  0.],\n",
       "       [-1.,  1.,  0., -1.],\n",
       "       [-1.,  0.,  1., -1.],\n",
       "       [ 0., -1., -1.,  0.]])"
      ]
     },
     "execution_count": 24,
     "metadata": {},
     "output_type": "execute_result"
    }
   ],
   "source": [
    "X = np.array([[0, 1], [1, 0]])\n",
    "IX = np.kron(I2, X)\n",
    "XI = np.kron(X, I2)\n",
    "H = H - XI - IX\n",
    "H"
   ]
  },
  {
   "cell_type": "markdown",
   "metadata": {},
   "source": [
    "If you take a look at the matrix of the Hamiltonian, it has off-diagonal terms.\n",
    "\n",
    "The energy expectation value in the $|00\\rangle$ is not affected, the transverse field only lowers the ground state energy:"
   ]
  },
  {
   "cell_type": "code",
   "execution_count": 25,
   "metadata": {},
   "outputs": [
    {
     "data": {
      "text/plain": [
       "array(-2.)"
      ]
     },
     "execution_count": 25,
     "metadata": {},
     "output_type": "execute_result"
    }
   ],
   "source": [
    "ψ = np.kron([[1], [0]], [[1], [0]])\n",
    "calculate_energy_expectation(ψ, H)"
   ]
  },
  {
   "cell_type": "markdown",
   "metadata": {},
   "source": [
    "Is this the ground state energy? We can use the eigenvector corresponding to the smallest eigenvalue and calculate the expectation value of it."
   ]
  },
  {
   "cell_type": "code",
   "execution_count": 26,
   "metadata": {},
   "outputs": [
    {
     "data": {
      "text/plain": [
       "array(-2.681)"
      ]
     },
     "execution_count": 26,
     "metadata": {},
     "output_type": "execute_result"
    }
   ],
   "source": [
    "eigenvalues, eigenvectors = np.linalg.eigh(H)\n",
    "ψ = eigenvectors[:, 0:1]\n",
    "energy_expectation_value = calculate_energy_expectation(ψ, H)\n",
    "energy_expectation_value"
   ]
  },
  {
   "cell_type": "markdown",
   "metadata": {},
   "source": [
    "Naturally, this value also corresponds to the lowest eigenvalue and indeed, this is the ground state energy. So by calculating the eigendecomposition of the typically non-diagonal Hamiltonian, we can extract both the ground state and its energy. The difficulty comes from the exponential scaling of the matrix representing the Hamiltonian as a function of the number of sites. This is the original reason going back to the early 1980s to build a quantum computer: this device would implement (or simulate) the Hamiltonian in hardware. Say, a couple of hundred spins would be beyond the computational capacity of supercomputers, but having the physical spins and being able to set a specific Hamiltonian, we can extract quantities of interest, such the ground state."
   ]
  }
 ],
 "metadata": {
  "kernelspec": {
   "display_name": "Python 3",
   "language": "python",
   "name": "python3"
  },
  "language_info": {
   "codemirror_mode": {
    "name": "ipython",
    "version": 3
   },
   "file_extension": ".py",
   "mimetype": "text/x-python",
   "name": "python",
   "nbconvert_exporter": "python",
   "pygments_lexer": "ipython3",
   "version": "3.8.4"
  },
  "varInspector": {
   "cols": {
    "lenName": 16,
    "lenType": 16,
    "lenVar": 40
   },
   "kernels_config": {
    "python": {
     "delete_cmd_postfix": "",
     "delete_cmd_prefix": "del ",
     "library": "var_list.py",
     "varRefreshCmd": "print(var_dic_list())"
    },
    "r": {
     "delete_cmd_postfix": ") ",
     "delete_cmd_prefix": "rm(",
     "library": "var_list.r",
     "varRefreshCmd": "cat(var_dic_list()) "
    }
   },
   "types_to_exclude": [
    "module",
    "function",
    "builtin_function_or_method",
    "instance",
    "_Feature"
   ],
   "window_display": false
  }
 },
 "nbformat": 4,
 "nbformat_minor": 2
}
